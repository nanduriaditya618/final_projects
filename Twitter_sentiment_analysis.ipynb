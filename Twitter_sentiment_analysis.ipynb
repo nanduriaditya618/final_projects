{
 "cells": [
  {
   "cell_type": "markdown",
   "metadata": {},
   "source": [
    "<img src=\"https://datasciencedegree.wisconsin.edu/wp-content/themes/data-gulp/images/logo.svg\" width=\"300\">\n"
   ]
  },
  {
   "cell_type": "markdown",
   "metadata": {},
   "source": [
    "# Final project DS710 - Aditya Nanduri"
   ]
  },
  {
   "cell_type": "code",
   "execution_count": 1,
   "metadata": {},
   "outputs": [],
   "source": [
    "import tweepy\n",
    "import json\n",
    "import pandas as pd\n",
    "import preprocessor as p\n",
    "import numpy as np\n",
    "import os\n",
    "import re\n",
    "import string\n",
    "from textblob import TextBlob\n",
    "from nltk.corpus import stopwords\n",
    "from nltk.tokenize import word_tokenize"
   ]
  },
  {
   "cell_type": "markdown",
   "metadata": {},
   "source": [
    "#### Loading  credentials from the external file\n",
    "\n",
    "Invoking a python plain text source file located somewhere else on my computer."
   ]
  },
  {
   "cell_type": "code",
   "execution_count": 2,
   "metadata": {},
   "outputs": [],
   "source": [
    "%run ~/downloads/twitter_credentials.py\n",
    "# this cell will evaluate silently 🙊, and not print anything.  \n",
    "# This is desired, because a person with your keys can act as you on Twitter in literally every way 😟"
   ]
  },
  {
   "cell_type": "markdown",
   "metadata": {},
   "source": [
    "🔐 If you need to check whether the four variables, such as `con_key` have the correct value, insert a cell and print the value, then delete the cell.  Keep your credentials secret and safe!!!  "
   ]
  },
  {
   "cell_type": "markdown",
   "metadata": {},
   "source": [
    "#### 3. Make an `API` object\n",
    "\n",
    "The `tweepy.API` object handles construction of the Twitter API calls for you.  It's a convenience layer, but it's really dang convenient!"
   ]
  },
  {
   "cell_type": "code",
   "execution_count": 3,
   "metadata": {},
   "outputs": [],
   "source": [
    "#Use tweepy.OAuthHandler to create an authentication using the given key and secret\n",
    "auth = tweepy.OAuthHandler(consumer_key=con_key, consumer_secret=con_secret)\n",
    "auth.set_access_token(acc_token, acc_secret)\n",
    "\n",
    "#Connect to the Twitter API using the authentication\n",
    "api = tweepy.API(auth)"
   ]
  },
  {
   "cell_type": "markdown",
   "metadata": {},
   "source": [
    "### The REST API\n",
    "\n",
    "The REST API allows you to _pull_ information from Twitter, or _push_ information back to Twitter.  We'll use the REST API to run a specific search.  "
   ]
  },
  {
   "cell_type": "code",
   "execution_count": 4,
   "metadata": {},
   "outputs": [],
   "source": [
    "#Using the REST API for a static search\n",
    "#Search query words , filtering out re-tweets .\n",
    "trump_keywords = '#trump OR #donaldtrump OR #republican OR #keepamericagreat OR #maga OR #conservative OR #trump2020 OR #trumpforpresident OR #fakepresident OR #dumptrump OR #impeachtrump OR #notmypresident -filter:retweets -filter:media'\n",
    "    joebiden_keywords = '#biden OR #democrats OR #voteblue OR #voteforblue OR #joebidenforpresident OR #joebiden OR #joe OR #josephbiden OR #bidenforusa OR #creepyjoebiden OR #bidendropout OR #bideniscorrupt OR #biden2020 -filter:retweets -filter:media'\n",
    "#trump_keywords = '#trump2020'\n",
    "#joebiden_keywords = '#biden2020' \n"
   ]
  },
  {
   "cell_type": "markdown",
   "metadata": {},
   "source": [
    "### For Cleaning text - Removing Stop words, emoticons and Punctuations"
   ]
  },
  {
   "cell_type": "code",
   "execution_count": 5,
   "metadata": {},
   "outputs": [],
   "source": [
    "\n",
    "# Happy Emoticons\n",
    "emoticons= set([\n",
    "    ':-)', ':)', ';)', ':o)', ':]', ':3', ':c)', ':>', '=]', '8)', '=)', ':}',\n",
    "    ':^)', ':-D', ':D', '8-D', '8D', 'x-D', 'xD', 'X-D', 'XD', '=-D', '=D',\n",
    "    '=-3', '=3', ':-))', \":'-)\", \":')\", ':*', ':^*', '>:P', ':-P', ':P', 'X-P',\n",
    "    'x-p', 'xp', 'XP', ':-p', ':p', '=p', ':-b', ':b', '>:)', '>;)', '>:-)',\n",
    "    '<3',':L', ':-/', '>:/', ':S', '>:[', ':@', ':-(', ':[', ':-||', '=L', ':<',\n",
    "    ':-[', ':-<', '=\\\\', '=/', '>:(', ':(', '>.<', \":'-(\", \":'(\", ':\\\\', ':-c',\n",
    "    ':c', ':{', '>:\\\\', ';('\n",
    "    ])\n",
    "\n",
    "#Emoji patterns\n",
    "emoji_pattern = re.compile(\"[\"\n",
    "                           u\"\\U0001F600-\\U0001F64F\"  # emoticons\n",
    "                           u\"\\U0001F300-\\U0001F5FF\"  # symbols & pictographs\n",
    "                           u\"\\U0001F680-\\U0001F6FF\"  # transport & map symbols\n",
    "                           u\"\\U0001F1E0-\\U0001F1FF\"  # flags (iOS)\n",
    "                           u\"\\U00002702-\\U000027B0\"\n",
    "                           u\"\\U000024C2-\\U0001F251\"\n",
    "                           \"]+\", flags=re.UNICODE)\n",
    "\n",
    "#method clean_tweets() - remove stop words, punctuation and emoticons\n",
    "def clean_tweets(tweet):\n",
    "    stop_words = set(stopwords.words('english'))\n",
    "    word_tokens = word_tokenize(tweet)\n",
    "\n",
    "    #after tweepy preprocessing the colon left remain after removing mentions\n",
    "    #or RT sign in the beginning of the tweet\n",
    "    tweet = re.sub(r':', '', tweet)\n",
    "    tweet = re.sub(r'‚Ä¶', '', tweet)\n",
    "    #replace consecutive non-ASCII characters with a space\n",
    "    tweet = re.sub(r'[^\\x00-\\x7F]+',' ', tweet)\n",
    "\n",
    "\n",
    "    #remove emojis from tweet\n",
    "    tweet = emoji_pattern.sub(r'', tweet)\n",
    "\n",
    "    #filter using NLTK library append it to a string\n",
    "    filtered_tweet = [w for w in word_tokens if not w in stop_words]\n",
    "    filtered_tweet = []\n",
    " \n",
    "    #removing stop words, emoticons and punctuations this will help in evaluating sentiment scores in a better way\n",
    "    for w in word_tokens:\n",
    "        #check tokens against stop words , emoticons and punctuations\n",
    "        if w not in stop_words and w not in emoticons and w not in string.punctuation:\n",
    "            filtered_tweet.append(w)\n",
    "    return ' '.join(filtered_tweet)"
   ]
  },
  {
   "cell_type": "markdown",
   "metadata": {},
   "source": [
    "### Get Cleaned Tweets with Sentiment score"
   ]
  },
  {
   "cell_type": "code",
   "execution_count": 6,
   "metadata": {},
   "outputs": [],
   "source": [
    "def get_clean_tweets(search_keyword,num_of_tweets):\n",
    "    tweet_list = []\n",
    "    last_id = -1 # id of last tweet seen\n",
    "    while len(tweet_list) < num_of_tweets:\n",
    "        try:\n",
    "            new_tweets = api.search(q = search_keyword, count = 100, lang = 'en',max_id = str(last_id - 1))\n",
    "        except tweepy.TweepError as e:\n",
    "            print(\"Error\", e)\n",
    "            break\n",
    "        else:\n",
    "            if not new_tweets:\n",
    "                print(\"Could not find any more tweets!\")\n",
    "                break\n",
    "            tweet_list.extend(new_tweets)\n",
    "            last_id = new_tweets[-1].id\n",
    "    all_tweet_list = []\n",
    "# loop Json file and extract information we need and store in a data frame\n",
    "    for i in range(0,len(tweet_list)):\n",
    "        filtered_tweet=clean_tweets(p.clean(tweet_list[i].text))\n",
    "        blob = TextBlob(filtered_tweet)\n",
    "        if tweet_list[i].place:\n",
    "            country = (tweet_list[i].place.country_code)\n",
    "        else:\n",
    "            country = np.nan \n",
    "        all_tweet_list.append([(i),\n",
    "                          (filtered_tweet),\n",
    "                          (tweet_list[i].user.screen_name),\n",
    "                          (tweet_list[i].created_at),\n",
    "                          (tweet_list[i].retweeted),\n",
    "                          (tweet_list[i].retweet_count),\n",
    "                          (tweet_list[i].favorite_count),\n",
    "                          (country),\n",
    "                          (blob.sentiment),\n",
    "                          (blob.sentiment.polarity),\n",
    "                         (blob.sentiment.subjectivity)])\n",
    "        # Creating a dataframe object from list\n",
    "    df_tweets = pd.DataFrame(all_tweet_list) \n",
    "    df_tweets.columns = ['Index','Text', 'screen_name','created_at','Is_retweeted','retweet_count','favorite_count','country','Sentiment','polarity','subjectivity']\n",
    "    return(df_tweets)"
   ]
  },
  {
   "cell_type": "code",
   "execution_count": 7,
   "metadata": {},
   "outputs": [
    {
     "data": {
      "text/plain": [
       "14009"
      ]
     },
     "execution_count": 7,
     "metadata": {},
     "output_type": "execute_result"
    }
   ],
   "source": [
    "trump_df = get_clean_tweets(trump_keywords,14000)\n",
    "len(trump_df)"
   ]
  },
  {
   "cell_type": "code",
   "execution_count": 9,
   "metadata": {},
   "outputs": [
    {
     "data": {
      "text/plain": [
       "14033"
      ]
     },
     "execution_count": 9,
     "metadata": {},
     "output_type": "execute_result"
    }
   ],
   "source": [
    "biden_df = get_clean_tweets(joebiden_keywords,14000)\n",
    "len(biden_df)"
   ]
  },
  {
   "cell_type": "code",
   "execution_count": 10,
   "metadata": {},
   "outputs": [],
   "source": [
    "# Adding Sentiment category based on sentiment. If score is positive value category would be Positive\n",
    "# similary negative category for Negative score and Neutral for 0 score\n",
    "trump_df['attitude'] = np.where(trump_df.polarity == 0, 'Neutral',\n",
    "                           np.where(trump_df.polarity > 0,'Positive', 'Negative'))\n",
    "trump_df['candidate'] = 'Trump'\n"
   ]
  },
  {
   "cell_type": "code",
   "execution_count": 11,
   "metadata": {},
   "outputs": [],
   "source": [
    "# Adding Sentiment category based on sentiment. If score is positive value category would be Positive\n",
    "# similary negative category for Negative score and Neutral for 0 score\n",
    "biden_df['attitude'] = np.where(biden_df.polarity == 0, 'Neutral',\n",
    "                           np.where(biden_df.polarity > 0,'Positive', 'Negative'))\n",
    "biden_df['candidate'] = 'Biden'"
   ]
  },
  {
   "cell_type": "code",
   "execution_count": 12,
   "metadata": {},
   "outputs": [],
   "source": [
    "import csv\n",
    "trump_df.to_csv(\"Trumprelatedtweets.csv\", index=False)\n",
    "biden_df.to_csv(\"Bidenrelatedtweets.csv\", index=False)"
   ]
  },
  {
   "cell_type": "code",
   "execution_count": null,
   "metadata": {},
   "outputs": [],
   "source": []
  }
 ],
 "metadata": {
  "kernelspec": {
   "display_name": "Python 3",
   "language": "python",
   "name": "python3"
  },
  "language_info": {
   "codemirror_mode": {
    "name": "ipython",
    "version": 3
   },
   "file_extension": ".py",
   "mimetype": "text/x-python",
   "name": "python",
   "nbconvert_exporter": "python",
   "pygments_lexer": "ipython3",
   "version": "3.7.4"
  }
 },
 "nbformat": 4,
 "nbformat_minor": 1
}
